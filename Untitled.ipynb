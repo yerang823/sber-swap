{
 "cells": [
  {
   "cell_type": "code",
   "execution_count": 8,
   "id": "49b3aa3a",
   "metadata": {},
   "outputs": [
    {
     "data": {
      "text/plain": [
       "array([[4.],\n",
       "       [5.],\n",
       "       [6.]])"
      ]
     },
     "execution_count": 8,
     "metadata": {},
     "output_type": "execute_result"
    }
   ],
   "source": [
    "import cv2\n",
    "import numpy as np\n",
    "a=np.array([1,2,3,4]).astype(float)\n",
    "b=np.array([4,5,6]).astype(float)\n",
    "# b=[4,5,6]\n",
    "cv2.multiply(a,b)"
   ]
  },
  {
   "cell_type": "code",
   "execution_count": 7,
   "id": "2af4c6e9",
   "metadata": {},
   "outputs": [
    {
     "data": {
      "text/html": [
       "<video controls  >\n",
       " <source src=\"data:None;base64,./jtbc_output/\bcsy_lsj.mp4\" type=\"None\">\n",
       " Your browser does not support the video tag.\n",
       " </video>"
      ],
      "text/plain": [
       "<IPython.core.display.Video object>"
      ]
     },
     "execution_count": 7,
     "metadata": {},
     "output_type": "execute_result"
    }
   ],
   "source": [
    "from IPython.display import Video\n",
    "\n",
    "Video(\"./jtbc_output/\bcsy_lsj.mp4\", embed=True)"
   ]
  },
  {
   "cell_type": "code",
   "execution_count": 10,
   "id": "2cacdd26",
   "metadata": {},
   "outputs": [
    {
     "data": {
      "text/plain": [
       "['khe.mp4',\n",
       " 'kbd.mp4',\n",
       " 'smk.mp4',\n",
       " 'rjh.mp4',\n",
       " 'kjy.mp4',\n",
       " 'csy.mp4',\n",
       " 'ysy.mp4',\n",
       " 'cyk.mp4',\n",
       " 'hnh.mp4',\n",
       " '.ipynb_checkpoints']"
      ]
     },
     "execution_count": 10,
     "metadata": {},
     "output_type": "execute_result"
    }
   ],
   "source": [
    "import os\n",
    "os.listdir('../simswap/jtbc_template/')"
   ]
  },
  {
   "cell_type": "code",
   "execution_count": 15,
   "id": "85647d8c",
   "metadata": {},
   "outputs": [
    {
     "data": {
      "text/plain": [
       "'khe'"
      ]
     },
     "execution_count": 15,
     "metadata": {},
     "output_type": "execute_result"
    }
   ],
   "source": [
    "import glob\n",
    "\n",
    "tmp = glob.glob('../simswap/jtbc_template/*.mp4')\n",
    "tmp[0].split('/')[-1].split('.')[0]"
   ]
  },
  {
   "cell_type": "code",
   "execution_count": 16,
   "id": "5181dc72",
   "metadata": {},
   "outputs": [],
   "source": [
    "from pathlib import Path"
   ]
  },
  {
   "cell_type": "code",
   "execution_count": 36,
   "id": "fe761800",
   "metadata": {},
   "outputs": [],
   "source": [
    "mv ./csy_lsj/ ./jtbc_outout_img/"
   ]
  }
 ],
 "metadata": {
  "kernelspec": {
   "display_name": "Python 3 (ipykernel)",
   "language": "python",
   "name": "python3"
  },
  "language_info": {
   "codemirror_mode": {
    "name": "ipython",
    "version": 3
   },
   "file_extension": ".py",
   "mimetype": "text/x-python",
   "name": "python",
   "nbconvert_exporter": "python",
   "pygments_lexer": "ipython3",
   "version": "3.8.10"
  }
 },
 "nbformat": 4,
 "nbformat_minor": 5
}
